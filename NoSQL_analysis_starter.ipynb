{
 "cells": [
  {
   "cell_type": "markdown",
   "id": "9a57c4c6",
   "metadata": {},
   "source": [
    "# Eat Safe, Love"
   ]
  },
  {
   "cell_type": "markdown",
   "id": "064ef857",
   "metadata": {},
   "source": [
    "## Notebook Set Up"
   ]
  },
  {
   "cell_type": "code",
   "execution_count": 1,
   "id": "3ecdd008",
   "metadata": {},
   "outputs": [],
   "source": [
    "# Import dependencies\n",
    "from pymongo import MongoClient\n",
    "from pprint import pprint"
   ]
  },
  {
   "cell_type": "code",
   "execution_count": 2,
   "id": "59390c4a",
   "metadata": {},
   "outputs": [],
   "source": [
    "# Create an instance of MongoClient\n",
    "mongo = MongoClient(port=27017)"
   ]
  },
  {
   "cell_type": "code",
   "execution_count": 3,
   "id": "71e373c1",
   "metadata": {},
   "outputs": [],
   "source": [
    "# assign the uk_food database to a variable name\n",
    "db = mongo['uk_food']"
   ]
  },
  {
   "cell_type": "code",
   "execution_count": 4,
   "id": "18ab463c",
   "metadata": {},
   "outputs": [
    {
     "data": {
      "text/plain": [
       "['establishments']"
      ]
     },
     "execution_count": 4,
     "metadata": {},
     "output_type": "execute_result"
    }
   ],
   "source": [
    "# review the collections in our database\n",
    "collection_names = db.list_collection_names()\n",
    "collection_names"
   ]
  },
  {
   "cell_type": "code",
   "execution_count": 5,
   "id": "11c9f11b",
   "metadata": {},
   "outputs": [],
   "source": [
    "# assign the collection to a variable\n",
    "establishments = db['establishments']"
   ]
  },
  {
   "cell_type": "markdown",
   "id": "d5671434",
   "metadata": {},
   "source": [
    "## Part 3: Exploratory Analysis\n",
    "Unless otherwise stated, for each question: \n",
    "* Use `count_documents` to display the number of documents contained in the result.\n",
    "* Display the first document in the results using `pprint`.\n",
    "* Convert the result to a Pandas DataFrame, print the number of rows in the DataFrame, and display the first 10 rows."
   ]
  },
  {
   "cell_type": "markdown",
   "id": "314bd884",
   "metadata": {},
   "source": [
    "### 1. Which establishments have a hygiene score equal to 20?"
   ]
  },
  {
   "cell_type": "code",
   "execution_count": 6,
   "id": "c2da7648",
   "metadata": {},
   "outputs": [
    {
     "name": "stdout",
     "output_type": "stream",
     "text": [
      "None\n"
     ]
    }
   ],
   "source": [
    "# Find the establishments with a hygiene score of 20\n",
    "query = {'Hygiene': 20}\n",
    "\n",
    "# Use count_documents to display the number of documents in the result\n",
    "hygiene_count = establishments.count_documents(query)\n",
    "\n",
    "# Display the first document in the results using pprint\n",
    "pprint(establishments.find_one(query))"
   ]
  },
  {
   "cell_type": "code",
   "execution_count": 7,
   "id": "a6e5cece",
   "metadata": {},
   "outputs": [
    {
     "data": {
      "text/html": [
       "<div>\n",
       "<style scoped>\n",
       "    .dataframe tbody tr th:only-of-type {\n",
       "        vertical-align: middle;\n",
       "    }\n",
       "\n",
       "    .dataframe tbody tr th {\n",
       "        vertical-align: top;\n",
       "    }\n",
       "\n",
       "    .dataframe thead th {\n",
       "        text-align: right;\n",
       "    }\n",
       "</style>\n",
       "<table border=\"1\" class=\"dataframe\">\n",
       "  <thead>\n",
       "    <tr style=\"text-align: right;\">\n",
       "      <th></th>\n",
       "      <th>0</th>\n",
       "    </tr>\n",
       "  </thead>\n",
       "  <tbody>\n",
       "    <tr>\n",
       "      <th>0</th>\n",
       "      <td>Hygiene</td>\n",
       "    </tr>\n",
       "  </tbody>\n",
       "</table>\n",
       "</div>"
      ],
      "text/plain": [
       "         0\n",
       "0  Hygiene"
      ]
     },
     "execution_count": 7,
     "metadata": {},
     "output_type": "execute_result"
    }
   ],
   "source": [
    "# Convert the result to a Pandas DataFrame\n",
    "import pandas as pd\n",
    "df = pd.DataFrame(list(query))\n",
    "\n",
    "# Display the number of rows in the DataFrame\n",
    "len(df)\n",
    "\n",
    "# Display the first 10 rows of the DataFrame\n",
    "df.head(10)"
   ]
  },
  {
   "cell_type": "markdown",
   "id": "0ef4395a",
   "metadata": {},
   "source": [
    "### 2. Which establishments in London have a `RatingValue` greater than or equal to 4?"
   ]
  },
  {
   "cell_type": "code",
   "execution_count": 8,
   "id": "93c63829",
   "metadata": {},
   "outputs": [
    {
     "name": "stdout",
     "output_type": "stream",
     "text": [
      "None\n"
     ]
    }
   ],
   "source": [
    "# Find the establishments with London as the Local Authority and has a RatingValue greater than or equal to 4.\n",
    "query = {'LocalAuthorityName': 'London',\n",
    "         'RatingValue': {'$gte': 4}\n",
    "         }\n",
    "\n",
    "# Use count_documents to display the number of documents in the result\n",
    "count = establishments.count_documents(query)\n",
    "\n",
    "# Display the first document in the results using pprint\n",
    "pprint(establishments.find_one(query))"
   ]
  },
  {
   "cell_type": "code",
   "execution_count": 9,
   "id": "07e24ccb",
   "metadata": {},
   "outputs": [
    {
     "data": {
      "text/html": [
       "<div>\n",
       "<style scoped>\n",
       "    .dataframe tbody tr th:only-of-type {\n",
       "        vertical-align: middle;\n",
       "    }\n",
       "\n",
       "    .dataframe tbody tr th {\n",
       "        vertical-align: top;\n",
       "    }\n",
       "\n",
       "    .dataframe thead th {\n",
       "        text-align: right;\n",
       "    }\n",
       "</style>\n",
       "<table border=\"1\" class=\"dataframe\">\n",
       "  <thead>\n",
       "    <tr style=\"text-align: right;\">\n",
       "      <th></th>\n",
       "      <th>0</th>\n",
       "    </tr>\n",
       "  </thead>\n",
       "  <tbody>\n",
       "    <tr>\n",
       "      <th>0</th>\n",
       "      <td>LocalAuthorityName</td>\n",
       "    </tr>\n",
       "    <tr>\n",
       "      <th>1</th>\n",
       "      <td>RatingValue</td>\n",
       "    </tr>\n",
       "  </tbody>\n",
       "</table>\n",
       "</div>"
      ],
      "text/plain": [
       "                    0\n",
       "0  LocalAuthorityName\n",
       "1         RatingValue"
      ]
     },
     "execution_count": 9,
     "metadata": {},
     "output_type": "execute_result"
    }
   ],
   "source": [
    "# Convert the result to a Pandas DataFrame\n",
    "df = pd.DataFrame(list(query))\n",
    "\n",
    "# Display the number of rows in the DataFrame\n",
    "len(df)\n",
    "\n",
    "# Display the first 10 rows of the DataFrame\n",
    "df.head(10)\n"
   ]
  },
  {
   "attachments": {},
   "cell_type": "markdown",
   "id": "4e570caf",
   "metadata": {},
   "source": [
    "### 3. What are the top 5 establishments with a `RatingValue` rating value of 5, sorted by lowest hygiene score, nearest to the new restaurant added, \"Penang Flavours\"?"
   ]
  },
  {
   "cell_type": "code",
   "execution_count": 10,
   "id": "7f599f3d",
   "metadata": {},
   "outputs": [
    {
     "ename": "KeyError",
     "evalue": "'RatingValue'",
     "output_type": "error",
     "traceback": [
      "\u001b[1;31m---------------------------------------------------------------------------\u001b[0m",
      "\u001b[1;31mKeyError\u001b[0m                                  Traceback (most recent call last)",
      "\u001b[1;32mc:\\Users\\gabyd\\nosql-challenge\\NoSQL_analysis_starter.ipynb Cell 16\u001b[0m line \u001b[0;36m1\n\u001b[0;32m      <a href='vscode-notebook-cell:/c%3A/Users/gabyd/nosql-challenge/NoSQL_analysis_starter.ipynb#X21sZmlsZQ%3D%3D?line=7'>8</a>\u001b[0m longitude \u001b[39m=\u001b[39m \u001b[39m0.08384000\u001b[39m\n\u001b[0;32m     <a href='vscode-notebook-cell:/c%3A/Users/gabyd/nosql-challenge/NoSQL_analysis_starter.ipynb#X21sZmlsZQ%3D%3D?line=9'>10</a>\u001b[0m query \u001b[39m=\u001b[39m { \u001b[39m'\u001b[39m\u001b[39mgeocode.latitude\u001b[39m\u001b[39m'\u001b[39m : {\u001b[39m'\u001b[39m\u001b[39m$gte\u001b[39m\u001b[39m'\u001b[39m: latitude\u001b[39m-\u001b[39mdegree_search, \u001b[39m'\u001b[39m\u001b[39m$lte\u001b[39m\u001b[39m'\u001b[39m: latitude\u001b[39m+\u001b[39mdegree_search}, \n\u001b[0;32m     <a href='vscode-notebook-cell:/c%3A/Users/gabyd/nosql-challenge/NoSQL_analysis_starter.ipynb#X21sZmlsZQ%3D%3D?line=10'>11</a>\u001b[0m          \u001b[39m'\u001b[39m\u001b[39mgeocode.longitude\u001b[39m\u001b[39m'\u001b[39m : {\u001b[39m'\u001b[39m\u001b[39m$gte\u001b[39m\u001b[39m'\u001b[39m: longitude\u001b[39m-\u001b[39mdegree_search, \u001b[39m'\u001b[39m\u001b[39m$lte\u001b[39m\u001b[39m'\u001b[39m: longitude\u001b[39m+\u001b[39mdegree_search},\n\u001b[0;32m     <a href='vscode-notebook-cell:/c%3A/Users/gabyd/nosql-challenge/NoSQL_analysis_starter.ipynb#X21sZmlsZQ%3D%3D?line=11'>12</a>\u001b[0m          \u001b[39m'\u001b[39m\u001b[39mRatingValue\u001b[39m\u001b[39m'\u001b[39m: \u001b[39m5\u001b[39m}\n\u001b[1;32m---> <a href='vscode-notebook-cell:/c%3A/Users/gabyd/nosql-challenge/NoSQL_analysis_starter.ipynb#X21sZmlsZQ%3D%3D?line=13'>14</a>\u001b[0m sort \u001b[39m=\u001b[39m df[df[\u001b[39m'\u001b[39;49m\u001b[39mRatingValue\u001b[39;49m\u001b[39m'\u001b[39;49m] \u001b[39m==\u001b[39m \u001b[39m5\u001b[39m]\u001b[39m.\u001b[39msort_values(by\u001b[39m=\u001b[39m\u001b[39m'\u001b[39m\u001b[39mHygiene\u001b[39m\u001b[39m'\u001b[39m, ascending\u001b[39m=\u001b[39m\u001b[39mFalse\u001b[39;00m)\n\u001b[0;32m     <a href='vscode-notebook-cell:/c%3A/Users/gabyd/nosql-challenge/NoSQL_analysis_starter.ipynb#X21sZmlsZQ%3D%3D?line=15'>16</a>\u001b[0m \u001b[39m# Print the results\u001b[39;00m\n\u001b[0;32m     <a href='vscode-notebook-cell:/c%3A/Users/gabyd/nosql-challenge/NoSQL_analysis_starter.ipynb#X21sZmlsZQ%3D%3D?line=16'>17</a>\u001b[0m sort\n",
      "File \u001b[1;32mc:\\Users\\gabyd\\anaconda3\\envs\\dev\\lib\\site-packages\\pandas\\core\\frame.py:3807\u001b[0m, in \u001b[0;36mDataFrame.__getitem__\u001b[1;34m(self, key)\u001b[0m\n\u001b[0;32m   3805\u001b[0m \u001b[39mif\u001b[39;00m \u001b[39mself\u001b[39m\u001b[39m.\u001b[39mcolumns\u001b[39m.\u001b[39mnlevels \u001b[39m>\u001b[39m \u001b[39m1\u001b[39m:\n\u001b[0;32m   3806\u001b[0m     \u001b[39mreturn\u001b[39;00m \u001b[39mself\u001b[39m\u001b[39m.\u001b[39m_getitem_multilevel(key)\n\u001b[1;32m-> 3807\u001b[0m indexer \u001b[39m=\u001b[39m \u001b[39mself\u001b[39;49m\u001b[39m.\u001b[39;49mcolumns\u001b[39m.\u001b[39;49mget_loc(key)\n\u001b[0;32m   3808\u001b[0m \u001b[39mif\u001b[39;00m is_integer(indexer):\n\u001b[0;32m   3809\u001b[0m     indexer \u001b[39m=\u001b[39m [indexer]\n",
      "File \u001b[1;32mc:\\Users\\gabyd\\anaconda3\\envs\\dev\\lib\\site-packages\\pandas\\core\\indexes\\range.py:395\u001b[0m, in \u001b[0;36mRangeIndex.get_loc\u001b[1;34m(self, key, method, tolerance)\u001b[0m\n\u001b[0;32m    393\u001b[0m             \u001b[39mraise\u001b[39;00m \u001b[39mKeyError\u001b[39;00m(key) \u001b[39mfrom\u001b[39;00m \u001b[39merr\u001b[39;00m\n\u001b[0;32m    394\u001b[0m     \u001b[39mself\u001b[39m\u001b[39m.\u001b[39m_check_indexing_error(key)\n\u001b[1;32m--> 395\u001b[0m     \u001b[39mraise\u001b[39;00m \u001b[39mKeyError\u001b[39;00m(key)\n\u001b[0;32m    396\u001b[0m \u001b[39mreturn\u001b[39;00m \u001b[39msuper\u001b[39m()\u001b[39m.\u001b[39mget_loc(key, method\u001b[39m=\u001b[39mmethod, tolerance\u001b[39m=\u001b[39mtolerance)\n",
      "\u001b[1;31mKeyError\u001b[0m: 'RatingValue'"
     ]
    }
   ],
   "source": [
    "# Search within 0.01 degree on either side of the latitude and longitude.\n",
    "# Rating value must equal 5\n",
    "# Sort by hygiene score\n",
    "import pandas as pd\n",
    "\n",
    "degree_search = 0.01\n",
    "latitude = 51.49014200\n",
    "longitude = 0.08384000\n",
    "\n",
    "query = { 'geocode.latitude' : {'$gte': latitude-degree_search, '$lte': latitude+degree_search}, \n",
    "         'geocode.longitude' : {'$gte': longitude-degree_search, '$lte': longitude+degree_search},\n",
    "         'RatingValue': 5}\n",
    "\n",
    "sort = df[df['RatingValue'] == 5].sort_values(by='Hygiene', ascending=False)\n",
    "\n",
    "# Print the results\n",
    "sort"
   ]
  },
  {
   "cell_type": "code",
   "execution_count": null,
   "id": "a6ad16f7",
   "metadata": {},
   "outputs": [
    {
     "ename": "NameError",
     "evalue": "name 'sort' is not defined",
     "output_type": "error",
     "traceback": [
      "\u001b[1;31m---------------------------------------------------------------------------\u001b[0m",
      "\u001b[1;31mNameError\u001b[0m                                 Traceback (most recent call last)",
      "\u001b[1;32mc:\\Users\\gabyd\\nosql-challenge\\NoSQL_analysis_starter.ipynb Cell 17\u001b[0m line \u001b[0;36m2\n\u001b[0;32m      <a href='vscode-notebook-cell:/c%3A/Users/gabyd/nosql-challenge/NoSQL_analysis_starter.ipynb#X22sZmlsZQ%3D%3D?line=0'>1</a>\u001b[0m \u001b[39m# Convert result to Pandas DataFrame\u001b[39;00m\n\u001b[1;32m----> <a href='vscode-notebook-cell:/c%3A/Users/gabyd/nosql-challenge/NoSQL_analysis_starter.ipynb#X22sZmlsZQ%3D%3D?line=1'>2</a>\u001b[0m sorted_df \u001b[39m=\u001b[39m sort\u001b[39m.\u001b[39mpd\u001b[39m.\u001b[39mDataFrame()\n",
      "\u001b[1;31mNameError\u001b[0m: name 'sort' is not defined"
     ]
    }
   ],
   "source": [
    "# Convert result to Pandas DataFrame\n",
    "sorted_df = sort.pd.DataFrame()"
   ]
  },
  {
   "cell_type": "markdown",
   "id": "67281254",
   "metadata": {},
   "source": [
    "### 4. How many establishments in each Local Authority area have a hygiene score of 0?"
   ]
  },
  {
   "cell_type": "code",
   "execution_count": 14,
   "id": "4eeb227e",
   "metadata": {},
   "outputs": [
    {
     "ename": "AttributeError",
     "evalue": "'CommandCursor' object has no attribute 'sort'",
     "output_type": "error",
     "traceback": [
      "\u001b[1;31m---------------------------------------------------------------------------\u001b[0m",
      "\u001b[1;31mAttributeError\u001b[0m                            Traceback (most recent call last)",
      "\u001b[1;32mc:\\Users\\gabyd\\nosql-challenge\\NoSQL_analysis_starter.ipynb Cell 19\u001b[0m line \u001b[0;36m9\n\u001b[0;32m      <a href='vscode-notebook-cell:/c%3A/Users/gabyd/nosql-challenge/NoSQL_analysis_starter.ipynb#X24sZmlsZQ%3D%3D?line=4'>5</a>\u001b[0m hygiene_zero \u001b[39m=\u001b[39m establishments[establishments[\u001b[39m'\u001b[39m\u001b[39mHygiene\u001b[39m\u001b[39m'\u001b[39m] \u001b[39m==\u001b[39m \u001b[39m0\u001b[39m]\n\u001b[0;32m      <a href='vscode-notebook-cell:/c%3A/Users/gabyd/nosql-challenge/NoSQL_analysis_starter.ipynb#X24sZmlsZQ%3D%3D?line=5'>6</a>\u001b[0m authority \u001b[39m=\u001b[39m hygiene_zero\u001b[39m.\u001b[39maggregate([\n\u001b[0;32m      <a href='vscode-notebook-cell:/c%3A/Users/gabyd/nosql-challenge/NoSQL_analysis_starter.ipynb#X24sZmlsZQ%3D%3D?line=6'>7</a>\u001b[0m     {\u001b[39m'\u001b[39m\u001b[39m$group\u001b[39m\u001b[39m'\u001b[39m: {\u001b[39m'\u001b[39m\u001b[39m_id\u001b[39m\u001b[39m'\u001b[39m: \u001b[39m'\u001b[39m\u001b[39m$LocalAuthorityName\u001b[39m\u001b[39m'\u001b[39m, \u001b[39m'\u001b[39m\u001b[39mestablishments\u001b[39m\u001b[39m'\u001b[39m: {\u001b[39m'\u001b[39m\u001b[39m$push\u001b[39m\u001b[39m'\u001b[39m: \u001b[39m'\u001b[39m\u001b[39m$$ROOT\u001b[39m\u001b[39m'\u001b[39m}}}\n\u001b[0;32m      <a href='vscode-notebook-cell:/c%3A/Users/gabyd/nosql-challenge/NoSQL_analysis_starter.ipynb#X24sZmlsZQ%3D%3D?line=7'>8</a>\u001b[0m ])\n\u001b[1;32m----> <a href='vscode-notebook-cell:/c%3A/Users/gabyd/nosql-challenge/NoSQL_analysis_starter.ipynb#X24sZmlsZQ%3D%3D?line=8'>9</a>\u001b[0m sorted_results \u001b[39m=\u001b[39m authority\u001b[39m.\u001b[39;49msort(\u001b[39m'\u001b[39m\u001b[39mestablishments.Hygiene\u001b[39m\u001b[39m'\u001b[39m, pymongo\u001b[39m.\u001b[39mDESCENDING)\n\u001b[0;32m     <a href='vscode-notebook-cell:/c%3A/Users/gabyd/nosql-challenge/NoSQL_analysis_starter.ipynb#X24sZmlsZQ%3D%3D?line=10'>11</a>\u001b[0m \u001b[39m# Print the number of documents in the result\u001b[39;00m\n\u001b[0;32m     <a href='vscode-notebook-cell:/c%3A/Users/gabyd/nosql-challenge/NoSQL_analysis_starter.ipynb#X24sZmlsZQ%3D%3D?line=11'>12</a>\u001b[0m \u001b[39mlen\u001b[39m(authority_sorted)\n",
      "\u001b[1;31mAttributeError\u001b[0m: 'CommandCursor' object has no attribute 'sort'"
     ]
    }
   ],
   "source": [
    "# Create a pipeline that: \n",
    "# 1. Matches establishments with a hygiene score of 0\n",
    "# 2. Groups the matches by Local Authority\n",
    "# 3. Sorts the matches from highest to lowest\n",
    "hygiene_zero = establishments[establishments['Hygiene'] == 0]\n",
    "authority = hygiene_zero.groupby('LocalAuthorityName')\n",
    "authority_sorted = authority.sort_values(by='Hygiene', ascending=False)\n",
    "\n",
    "# Print the number of documents in the result\n",
    "len(authority_sorted)\n",
    "\n",
    "# Print the first 10 results\n",
    "pprint(authority_sorted.head(10))"
   ]
  },
  {
   "cell_type": "code",
   "execution_count": null,
   "id": "d8aab364",
   "metadata": {},
   "outputs": [],
   "source": [
    "# Convert the result to a Pandas DataFrame\n",
    "df = pd.DataFrame(list(authority_sorted))\n",
    "\n",
    "# Display the number of rows in the DataFrame\n",
    "len(df)\n",
    "\n",
    "# Display the first 10 rows of the DataFrame\n",
    "df.head(10)"
   ]
  }
 ],
 "metadata": {
  "kernelspec": {
   "display_name": "Python 3 (ipykernel)",
   "language": "python",
   "name": "python3"
  },
  "language_info": {
   "codemirror_mode": {
    "name": "ipython",
    "version": 3
   },
   "file_extension": ".py",
   "mimetype": "text/x-python",
   "name": "python",
   "nbconvert_exporter": "python",
   "pygments_lexer": "ipython3",
   "version": "3.10.12"
  }
 },
 "nbformat": 4,
 "nbformat_minor": 5
}
